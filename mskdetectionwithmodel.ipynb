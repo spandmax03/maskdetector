{
 "cells": [
  {
   "cell_type": "code",
   "execution_count": null,
   "metadata": {},
   "outputs": [],
   "source": [
    "from scipy.spatial import distance as dist\n",
    "from keras.models import load_model\n",
    "from tensorflow.keras.preprocessing import image\n",
    "import cv2\n",
    "import numpy as np\n",
    "color_dict={0:(0,255,0),1:(0,0,255)}"
   ]
  },
  {
   "cell_type": "code",
   "execution_count": null,
   "metadata": {},
   "outputs": [],
   "source": [
    "cnn=load_model('cnn.h5')\n",
    "cap=cv2.VideoCapture(0)\n",
    "i=0\n",
    "while True:\n",
    "    ret,frame=cap.read()\n",
    "    faceCascade=cv2.CascadeClassifier(cv2.data.haarcascades+'haarcascade_frontalface_default.xml')\n",
    "    gray=cv2.cvtColor(frame,cv2.COLOR_BGR2GRAY)\n",
    "    faces=faceCascade.detectMultiScale(gray,1.1,4)\n",
    "    cv2.putText(frame, str(len(faces))+\" Face\", (50, 50), cv2.FONT_HERSHEY_SIMPLEX,1, (255, 0, 0) , 2, cv2.LINE_AA)\n",
    "    D=0\n",
    "    for x,y,w,h in faces:\n",
    "        roi_gray=gray[y:y+h,x:x+w]\n",
    "        roi_color=frame[y:y+h,x:x+w]\n",
    "        cv2.rectangle(frame,(x,y),(x+w,y+h),(255,0,0),2)\n",
    "        stack_x = []\n",
    "        stack_y = []\n",
    "        D=0\n",
    "        face_roi=roi_color[y:y+h,x:x+w]\n",
    "        final_image = cv2.resize(roi_color,(64,64))\n",
    "        test_image = image.img_to_array(final_image)\n",
    "        test_image = np.expand_dims(test_image, axis = 0)\n",
    "        result = cnn.predict(test_image)\n",
    "        if result[0][0] == 0:\n",
    "            prediction = 'No Mask'\n",
    "            i=1\n",
    "        else:\n",
    "            prediction = 'Mask Detected'\n",
    "            i=0\n",
    "        cv2.rectangle(frame,(x,y),(x+w,y+h),color_dict[i],2)\n",
    "        cv2.rectangle(frame,(x,y-40),(x+w,y),color_dict[i],-1)\n",
    "        cv2.putText(frame, prediction, (x, y-10),cv2.FONT_HERSHEY_SIMPLEX,0.8,(255,255,255),2)\n",
    "            \n",
    "    for i in range(0,len(faces)):\n",
    "        x1 = faces[i][0]\n",
    "        y1 = faces[i][1]\n",
    "        x2 = faces[i][0] + faces[i][2]\n",
    "        y2 = faces[i][1] + faces[i][3]\n",
    "\n",
    "        mid_x = int((x1+x2)/2)\n",
    "        mid_y = int((y1+y2)/2)\n",
    "        stack_x.append(mid_x)\n",
    "        stack_y.append(mid_y)\n",
    "                \n",
    "    if len(faces) == 2:\n",
    "        D = int(dist.euclidean((stack_x.pop(), stack_y.pop()), (stack_x.pop(), stack_y.pop())))   \n",
    "                \n",
    "    if D<250 and D!=0:\n",
    "        cv2.putText(frame, \"Maintain Social Distancing\", (100, 100), cv2.FONT_HERSHEY_SIMPLEX,1, [0,0,255] , 2)                \n",
    "                \n",
    "                \n",
    "    cv2.imshow('LIVE',frame)\n",
    "    key=cv2.waitKey(1)\n",
    "    \n",
    "    if(key==27):\n",
    "        break\n",
    "        \n",
    "cv2.destroyAllWindows()\n",
    "source.release()"
   ]
  },
  {
   "cell_type": "code",
   "execution_count": null,
   "metadata": {},
   "outputs": [],
   "source": []
  },
  {
   "cell_type": "code",
   "execution_count": null,
   "metadata": {},
   "outputs": [],
   "source": []
  },
  {
   "cell_type": "code",
   "execution_count": null,
   "metadata": {},
   "outputs": [],
   "source": []
  }
 ],
 "metadata": {
  "colab": {
   "collapsed_sections": [],
   "name": "convolutional_neural_network.ipynb",
   "provenance": [],
   "toc_visible": true
  },
  "kernelspec": {
   "display_name": "Python 3 (ipykernel)",
   "language": "python",
   "name": "python3"
  },
  "language_info": {
   "codemirror_mode": {
    "name": "ipython",
    "version": 3
   },
   "file_extension": ".py",
   "mimetype": "text/x-python",
   "name": "python",
   "nbconvert_exporter": "python",
   "pygments_lexer": "ipython3",
   "version": "3.10.5"
  }
 },
 "nbformat": 4,
 "nbformat_minor": 1
}
